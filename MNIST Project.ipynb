{
 "cells": [
  {
   "cell_type": "markdown",
   "id": "9f7b094c-2c4c-49cc-ad11-deda62f61632",
   "metadata": {},
   "source": [
    "# MNIST PROJECT"
   ]
  },
  {
   "cell_type": "markdown",
   "id": "b4e06b63-b4af-4af4-b047-98b8fcdb8556",
   "metadata": {},
   "source": [
    "## FINDING HANDWRITTEN DIGITS USING TENSORFLOW"
   ]
  },
  {
   "cell_type": "code",
   "execution_count": 51,
   "id": "8dba47ad-dc39-41ff-9432-31d8d43360d7",
   "metadata": {},
   "outputs": [],
   "source": [
    "import numpy as np\n",
    "import tensorflow as tf\n",
    "from tensorflow.keras.models import Sequential\n",
    "from tensorflow.keras.layers import Dense, Input\n",
    "from tensorflow.keras.optimizers import Adam\n",
    "from tensorflow.keras.utils import to_categorical\n",
    "import idx2numpy"
   ]
  },
  {
   "cell_type": "code",
   "execution_count": 52,
   "id": "25dd5ad1-bce3-4ac3-beea-682e6aca553c",
   "metadata": {},
   "outputs": [
    {
     "name": "stdout",
     "output_type": "stream",
     "text": [
      "Sat Feb  8 10:22:51 2025       \n",
      "+-----------------------------------------------------------------------------------------+\n",
      "| NVIDIA-SMI 571.96                 Driver Version: 571.96         CUDA Version: 12.8     |\n",
      "|-----------------------------------------+------------------------+----------------------+\n",
      "| GPU  Name                  Driver-Model | Bus-Id          Disp.A | Volatile Uncorr. ECC |\n",
      "| Fan  Temp   Perf          Pwr:Usage/Cap |           Memory-Usage | GPU-Util  Compute M. |\n",
      "|                                         |                        |               MIG M. |\n",
      "|=========================================+========================+======================|\n",
      "|   0  NVIDIA GeForce RTX 4060 ...  WDDM  |   00000000:01:00.0 Off |                  N/A |\n",
      "| N/A   42C    P3             11W /   35W |       0MiB /   8188MiB |      0%      Default |\n",
      "|                                         |                        |                  N/A |\n",
      "+-----------------------------------------+------------------------+----------------------+\n",
      "                                                                                         \n",
      "+-----------------------------------------------------------------------------------------+\n",
      "| Processes:                                                                              |\n",
      "|  GPU   GI   CI              PID   Type   Process name                        GPU Memory |\n",
      "|        ID   ID                                                               Usage      |\n",
      "|=========================================================================================|\n",
      "|  No running processes found                                                             |\n",
      "+-----------------------------------------------------------------------------------------+\n"
     ]
    }
   ],
   "source": [
    "!nvidia-smi"
   ]
  },
  {
   "cell_type": "code",
   "execution_count": 53,
   "id": "67f5f505-2573-40f5-807c-b8ecaa30369b",
   "metadata": {},
   "outputs": [],
   "source": [
    "#LOADING THE DATA"
   ]
  },
  {
   "cell_type": "code",
   "execution_count": 54,
   "id": "3ce5034f-899c-4cab-9a2a-949ab5e21cc9",
   "metadata": {},
   "outputs": [],
   "source": [
    "X_train = idx2numpy.convert_from_file('train-images.idx3-ubyte')\n",
    "y_train = idx2numpy.convert_from_file('train-labels.idx1-ubyte')\n",
    "X_test = idx2numpy.convert_from_file('t10k-images.idx3-ubyte')\n",
    "y_test = idx2numpy.convert_from_file('t10k-labels.idx1-ubyte')"
   ]
  },
  {
   "cell_type": "code",
   "execution_count": 55,
   "id": "65a732e8-e4e5-49eb-9346-54674f7f8071",
   "metadata": {},
   "outputs": [],
   "source": [
    "#ONE HOT ENCODE THE LABELS"
   ]
  },
  {
   "cell_type": "code",
   "execution_count": 56,
   "id": "9dd5277d-6060-43b0-b30d-e39b76f30db7",
   "metadata": {},
   "outputs": [],
   "source": [
    "y_train = to_categorical(y_train, 10)"
   ]
  },
  {
   "cell_type": "code",
   "execution_count": 57,
   "id": "622401fb-84b4-4f84-8861-ceabbbbb095f",
   "metadata": {},
   "outputs": [],
   "source": [
    "y_test = to_categorical(y_test, 10)"
   ]
  },
  {
   "cell_type": "code",
   "execution_count": 58,
   "id": "c1bb95e3-2a72-45d1-89f1-39e30f770894",
   "metadata": {},
   "outputs": [],
   "source": [
    "#NORMALISING THE DATA"
   ]
  },
  {
   "cell_type": "code",
   "execution_count": 59,
   "id": "d25e2593-be81-4551-9b0d-d69a8e8994d4",
   "metadata": {},
   "outputs": [],
   "source": [
    "X_train = X_train.astype('float32')/255"
   ]
  },
  {
   "cell_type": "code",
   "execution_count": 60,
   "id": "4097a7dd-1709-4aed-a993-8f85e04b50bb",
   "metadata": {},
   "outputs": [],
   "source": [
    "X_test = X_test.astype('float32')/255"
   ]
  },
  {
   "cell_type": "code",
   "execution_count": 61,
   "id": "1004c421-2caa-4433-8126-6e51338f5237",
   "metadata": {},
   "outputs": [],
   "source": [
    "#RESHAPING THE DATA"
   ]
  },
  {
   "cell_type": "code",
   "execution_count": 62,
   "id": "7d4cac1b-03de-4639-9c38-01d4c1f27776",
   "metadata": {},
   "outputs": [],
   "source": [
    "X_train = X_train.reshape(X_train.shape[0], -1)"
   ]
  },
  {
   "cell_type": "code",
   "execution_count": 63,
   "id": "43756704-8c61-4829-b51e-236ef53798ab",
   "metadata": {},
   "outputs": [],
   "source": [
    "X_test = X_test.reshape(X_test.shape[0], -1)"
   ]
  },
  {
   "cell_type": "code",
   "execution_count": 64,
   "id": "c31d4040-a0ac-45d1-b66a-404f91cd0b58",
   "metadata": {},
   "outputs": [],
   "source": [
    "#CREATING BASIC NEURAL NETWORK"
   ]
  },
  {
   "cell_type": "code",
   "execution_count": 66,
   "id": "592bb7a2-3c6e-4f5e-ae9c-61a607a75889",
   "metadata": {},
   "outputs": [],
   "source": [
    "model = keras.Sequential([Input(shape = (784,)),\n",
    "                          Dense(64, activation = 'relu'),\n",
    "                          Dense(64, activation = 'relu'),\n",
    "                          Dense(10, activation = 'softmax')\n",
    "                         ])"
   ]
  },
  {
   "cell_type": "code",
   "execution_count": 68,
   "id": "c0ed901b-5420-41e7-a462-e31539123e0a",
   "metadata": {},
   "outputs": [],
   "source": [
    "#COMPILING THE MODEL"
   ]
  },
  {
   "cell_type": "code",
   "execution_count": 69,
   "id": "b57b369a-3f8a-4e44-b42f-5b38a31c5e37",
   "metadata": {},
   "outputs": [],
   "source": [
    "model.compile(optimizer = Adam(), \n",
    "              loss = 'categorical_crossentropy', \n",
    "              metrics=['accuracy'])"
   ]
  },
  {
   "cell_type": "code",
   "execution_count": 70,
   "id": "ad51e273-6f61-4e82-aa69-13f01cfec92d",
   "metadata": {},
   "outputs": [],
   "source": [
    "#TRAINING THE MODEL"
   ]
  },
  {
   "cell_type": "code",
   "execution_count": 71,
   "id": "bf1283f4-921d-4d9e-be4c-02d2641e866e",
   "metadata": {},
   "outputs": [
    {
     "name": "stdout",
     "output_type": "stream",
     "text": [
      "Epoch 1/20\n",
      "\u001b[1m422/422\u001b[0m \u001b[32m━━━━━━━━━━━━━━━━━━━━\u001b[0m\u001b[37m\u001b[0m \u001b[1m2s\u001b[0m 3ms/step - accuracy: 0.7661 - loss: 0.7933 - val_accuracy: 0.9513 - val_loss: 0.1706\n",
      "Epoch 2/20\n",
      "\u001b[1m422/422\u001b[0m \u001b[32m━━━━━━━━━━━━━━━━━━━━\u001b[0m\u001b[37m\u001b[0m \u001b[1m1s\u001b[0m 2ms/step - accuracy: 0.9448 - loss: 0.1929 - val_accuracy: 0.9612 - val_loss: 0.1318\n",
      "Epoch 3/20\n",
      "\u001b[1m422/422\u001b[0m \u001b[32m━━━━━━━━━━━━━━━━━━━━\u001b[0m\u001b[37m\u001b[0m \u001b[1m1s\u001b[0m 2ms/step - accuracy: 0.9588 - loss: 0.1399 - val_accuracy: 0.9687 - val_loss: 0.1102\n",
      "Epoch 4/20\n",
      "\u001b[1m422/422\u001b[0m \u001b[32m━━━━━━━━━━━━━━━━━━━━\u001b[0m\u001b[37m\u001b[0m \u001b[1m1s\u001b[0m 2ms/step - accuracy: 0.9688 - loss: 0.1076 - val_accuracy: 0.9728 - val_loss: 0.0984\n",
      "Epoch 5/20\n",
      "\u001b[1m422/422\u001b[0m \u001b[32m━━━━━━━━━━━━━━━━━━━━\u001b[0m\u001b[37m\u001b[0m \u001b[1m1s\u001b[0m 2ms/step - accuracy: 0.9757 - loss: 0.0838 - val_accuracy: 0.9750 - val_loss: 0.0876\n",
      "Epoch 6/20\n",
      "\u001b[1m422/422\u001b[0m \u001b[32m━━━━━━━━━━━━━━━━━━━━\u001b[0m\u001b[37m\u001b[0m \u001b[1m1s\u001b[0m 2ms/step - accuracy: 0.9795 - loss: 0.0698 - val_accuracy: 0.9738 - val_loss: 0.0875\n",
      "Epoch 7/20\n",
      "\u001b[1m422/422\u001b[0m \u001b[32m━━━━━━━━━━━━━━━━━━━━\u001b[0m\u001b[37m\u001b[0m \u001b[1m1s\u001b[0m 2ms/step - accuracy: 0.9835 - loss: 0.0583 - val_accuracy: 0.9742 - val_loss: 0.0834\n",
      "Epoch 8/20\n",
      "\u001b[1m422/422\u001b[0m \u001b[32m━━━━━━━━━━━━━━━━━━━━\u001b[0m\u001b[37m\u001b[0m \u001b[1m1s\u001b[0m 2ms/step - accuracy: 0.9845 - loss: 0.0515 - val_accuracy: 0.9747 - val_loss: 0.0841\n",
      "Epoch 9/20\n",
      "\u001b[1m422/422\u001b[0m \u001b[32m━━━━━━━━━━━━━━━━━━━━\u001b[0m\u001b[37m\u001b[0m \u001b[1m1s\u001b[0m 2ms/step - accuracy: 0.9865 - loss: 0.0470 - val_accuracy: 0.9747 - val_loss: 0.0944\n",
      "Epoch 10/20\n",
      "\u001b[1m422/422\u001b[0m \u001b[32m━━━━━━━━━━━━━━━━━━━━\u001b[0m\u001b[37m\u001b[0m \u001b[1m1s\u001b[0m 2ms/step - accuracy: 0.9879 - loss: 0.0400 - val_accuracy: 0.9768 - val_loss: 0.0892\n",
      "Epoch 11/20\n",
      "\u001b[1m422/422\u001b[0m \u001b[32m━━━━━━━━━━━━━━━━━━━━\u001b[0m\u001b[37m\u001b[0m \u001b[1m1s\u001b[0m 2ms/step - accuracy: 0.9893 - loss: 0.0359 - val_accuracy: 0.9743 - val_loss: 0.0960\n",
      "Epoch 12/20\n",
      "\u001b[1m422/422\u001b[0m \u001b[32m━━━━━━━━━━━━━━━━━━━━\u001b[0m\u001b[37m\u001b[0m \u001b[1m1s\u001b[0m 2ms/step - accuracy: 0.9914 - loss: 0.0301 - val_accuracy: 0.9782 - val_loss: 0.0866\n",
      "Epoch 13/20\n",
      "\u001b[1m422/422\u001b[0m \u001b[32m━━━━━━━━━━━━━━━━━━━━\u001b[0m\u001b[37m\u001b[0m \u001b[1m1s\u001b[0m 2ms/step - accuracy: 0.9919 - loss: 0.0282 - val_accuracy: 0.9755 - val_loss: 0.0995\n",
      "Epoch 14/20\n",
      "\u001b[1m422/422\u001b[0m \u001b[32m━━━━━━━━━━━━━━━━━━━━\u001b[0m\u001b[37m\u001b[0m \u001b[1m1s\u001b[0m 2ms/step - accuracy: 0.9940 - loss: 0.0205 - val_accuracy: 0.9777 - val_loss: 0.0975\n",
      "Epoch 15/20\n",
      "\u001b[1m422/422\u001b[0m \u001b[32m━━━━━━━━━━━━━━━━━━━━\u001b[0m\u001b[37m\u001b[0m \u001b[1m1s\u001b[0m 2ms/step - accuracy: 0.9936 - loss: 0.0214 - val_accuracy: 0.9782 - val_loss: 0.0956\n",
      "Epoch 16/20\n",
      "\u001b[1m422/422\u001b[0m \u001b[32m━━━━━━━━━━━━━━━━━━━━\u001b[0m\u001b[37m\u001b[0m \u001b[1m1s\u001b[0m 2ms/step - accuracy: 0.9941 - loss: 0.0195 - val_accuracy: 0.9745 - val_loss: 0.1043\n",
      "Epoch 17/20\n",
      "\u001b[1m422/422\u001b[0m \u001b[32m━━━━━━━━━━━━━━━━━━━━\u001b[0m\u001b[37m\u001b[0m \u001b[1m1s\u001b[0m 2ms/step - accuracy: 0.9950 - loss: 0.0166 - val_accuracy: 0.9752 - val_loss: 0.1135\n",
      "Epoch 18/20\n",
      "\u001b[1m422/422\u001b[0m \u001b[32m━━━━━━━━━━━━━━━━━━━━\u001b[0m\u001b[37m\u001b[0m \u001b[1m1s\u001b[0m 2ms/step - accuracy: 0.9948 - loss: 0.0159 - val_accuracy: 0.9768 - val_loss: 0.1002\n",
      "Epoch 19/20\n",
      "\u001b[1m422/422\u001b[0m \u001b[32m━━━━━━━━━━━━━━━━━━━━\u001b[0m\u001b[37m\u001b[0m \u001b[1m1s\u001b[0m 2ms/step - accuracy: 0.9968 - loss: 0.0109 - val_accuracy: 0.9778 - val_loss: 0.1052\n",
      "Epoch 20/20\n",
      "\u001b[1m422/422\u001b[0m \u001b[32m━━━━━━━━━━━━━━━━━━━━\u001b[0m\u001b[37m\u001b[0m \u001b[1m1s\u001b[0m 2ms/step - accuracy: 0.9966 - loss: 0.0127 - val_accuracy: 0.9775 - val_loss: 0.1110\n"
     ]
    }
   ],
   "source": [
    "history = model.fit(X_train, y_train, batch_size = 128, \n",
    "                   epochs = 20, \n",
    "                   validation_split = 0.1)"
   ]
  },
  {
   "cell_type": "code",
   "execution_count": 72,
   "id": "9daba67d-7906-4558-98dd-744d5c6ed03e",
   "metadata": {},
   "outputs": [],
   "source": [
    "#EVALUATING THE MODEL WITH TEST SET"
   ]
  },
  {
   "cell_type": "code",
   "execution_count": 73,
   "id": "75c373f7-bf8e-434a-b0e8-4cea3dbd4eb4",
   "metadata": {},
   "outputs": [
    {
     "name": "stdout",
     "output_type": "stream",
     "text": [
      "\u001b[1m313/313\u001b[0m \u001b[32m━━━━━━━━━━━━━━━━━━━━\u001b[0m\u001b[37m\u001b[0m \u001b[1m0s\u001b[0m 1ms/step - accuracy: 0.9707 - loss: 0.1237 \n",
      "Test Accuracy:  0.9752\n"
     ]
    }
   ],
   "source": [
    "test_loss, test_accuracy = model.evaluate(X_test, y_test)\n",
    "print(f\"Test Accuracy: {test_accuracy: .4f}\")"
   ]
  },
  {
   "cell_type": "markdown",
   "id": "e7eb32e3-7d74-4ea7-9bdc-bedc94b4e16d",
   "metadata": {},
   "source": [
    "## PLOTTING GRAPHS"
   ]
  },
  {
   "cell_type": "code",
   "execution_count": 74,
   "id": "83c9f6c3-3618-4a26-a938-fbca8252e057",
   "metadata": {},
   "outputs": [],
   "source": [
    "import matplotlib.pyplot as plt"
   ]
  },
  {
   "cell_type": "code",
   "execution_count": 75,
   "id": "49e49dc7-72b9-4716-9b20-45320ed47900",
   "metadata": {},
   "outputs": [
    {
     "data": {
      "text/plain": [
       "<matplotlib.legend.Legend at 0x273e34b3bf0>"
      ]
     },
     "execution_count": 75,
     "metadata": {},
     "output_type": "execute_result"
    },
    {
     "data": {
      "image/png": "[encoded data removed]",
      "text/plain": [
       "<Figure size 1200x400 with 1 Axes>"
      ]
     },
     "metadata": {},
     "output_type": "display_data"
    }
   ],
   "source": [
    "plt.figure(figsize=(12, 4))\n",
    "plt.subplot(1, 2, 1)\n",
    "plt.plot(history.history['accuracy'], label='Training Accuracy')\n",
    "plt.plot(history.history['val_accuracy'], label='Validation Accuracy')\n",
    "plt.title('Model Accuracy')\n",
    "plt.xlabel('Epoch')\n",
    "plt.ylabel('Accuracy')\n",
    "plt.legend()"
   ]
  },
  {
   "cell_type": "code",
   "execution_count": 78,
   "id": "b9f148e8-55e1-4157-a6c3-7a53c8941406",
   "metadata": {},
   "outputs": [
    {
     "data": {
      "text/plain": [
       "<matplotlib.legend.Legend at 0x273e35930e0>"
      ]
     },
     "execution_count": 78,
     "metadata": {},
     "output_type": "execute_result"
    },
    {
     "data": {
      "image/png": "[encoded data removed]",
      "text/plain": [
       "<Figure size 640x480 with 1 Axes>"
      ]
     },
     "metadata": {},
     "output_type": "display_data"
    }
   ],
   "source": [
    "plt.subplot(1, 2, 2)\n",
    "plt.plot(history.history['loss'], label='Training Loss')\n",
    "plt.plot(history.history['val_loss'], label='Validation Loss')\n",
    "plt.title('Model Loss')\n",
    "plt.xlabel('Epoch')\n",
    "plt.ylabel('Loss')\n",
    "plt.legend()"
   ]
  },
  {
   "cell_type": "code",
   "execution_count": 79,
   "id": "8df6d023-374b-4510-b61a-93d2f59ece1a",
   "metadata": {},
   "outputs": [
    {
     "data": {
      "text/plain": [
       "<Figure size 640x480 with 0 Axes>"
      ]
     },
     "metadata": {},
     "output_type": "display_data"
    }
   ],
   "source": [
    "plt.tight_layout()\n",
    "plt.show()"
   ]
  },
  {
   "cell_type": "code",
   "execution_count": null,
   "id": "27dd96e5-642b-415a-bb97-2f574118dff5",
   "metadata": {},
   "outputs": [],
   "source": []
  }
 ],
 "metadata": {
  "kernelspec": {
   "display_name": "Python 3 (ipykernel)",
   "language": "python",
   "name": "python3"
  },
  "language_info": {
   "codemirror_mode": {
    "name": "ipython",
    "version": 3
   },
   "file_extension": ".py",
   "mimetype": "text/x-python",
   "name": "python",
   "nbconvert_exporter": "python",
   "pygments_lexer": "ipython3",
   "version": "3.12.5"
  }
 },
 "nbformat": 4,
 "nbformat_minor": 5
}
